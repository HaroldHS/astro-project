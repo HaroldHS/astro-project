{
 "cells": [
  {
   "cell_type": "code",
   "execution_count": 1,
   "id": "33fe2da1-49dc-4a38-84e0-59fa24b845ba",
   "metadata": {},
   "outputs": [],
   "source": [
    "#\n",
    "# References\n",
    "#\n",
    "# [1] Skyfield position and velocity, https://rhodesmill.org/skyfield/positions.html\n",
    "# [2] Skyfield earth satellites, https://rhodesmill.org/skyfield/earth-satellites.html\n",
    "# [3] Skyfield osculating orbital elements, https://rhodesmill.org/skyfield/elements.html\n",
    "# [4] N2YO, https://www.n2yo.com/satellite/?s=41591\n",
    "#"
   ]
  },
  {
   "cell_type": "code",
   "execution_count": 2,
   "id": "9ff55abc-a808-415f-81fb-b1a0444fb448",
   "metadata": {},
   "outputs": [],
   "source": [
    "from skyfield.api import load, EarthSatellite\n",
    "from skyfield.elementslib import osculating_elements_of"
   ]
  },
  {
   "cell_type": "code",
   "execution_count": 3,
   "id": "4f0e114c-7550-408f-a26d-7c7ac75542f7",
   "metadata": {},
   "outputs": [],
   "source": [
    "ts = load.timescale()\n",
    "brisat_tle_1 = \"1 41591U 16039A   22335.67159561 -.00000195  00000-0  00000-0 0  9990\"\n",
    "brisat_tle_2 = \"2 41591   0.0210 313.5168 0002120 289.6782 219.5740  1.00269431 23648\"\n",
    "brisat_satellite = EarthSatellite(brisat_tle_1, brisat_tle_2, \"BRISAT\", ts)"
   ]
  },
  {
   "cell_type": "code",
   "execution_count": 4,
   "id": "3618f529-62d8-431c-b995-585c77fb5b46",
   "metadata": {},
   "outputs": [
    {
     "name": "stdout",
     "output_type": "stream",
     "text": [
      "[-1.44870189e-04 -2.41705477e-04  1.44898614e-07] au\n",
      "[ 1.52347868e-03 -9.13093889e-04 -2.99194469e-06] au/day\n"
     ]
    }
   ],
   "source": [
    "current_time = ts.now()\n",
    "brisat_current_position = brisat_satellite.at(current_time).position\n",
    "brisat_current_velocity = brisat_satellite.at(current_time).velocity\n",
    "print(brisat_current_position)\n",
    "print(brisat_current_velocity)"
   ]
  },
  {
   "cell_type": "code",
   "execution_count": 5,
   "id": "f8d9978b-3b98-45cf-bcd9-9a14a1a2268b",
   "metadata": {},
   "outputs": [
    {
     "name": "stdout",
     "output_type": "stream",
     "text": [
      "0.10091102349771294 0.00025090662652542205 42166.62893973144 166.3506214888249 356.67609580423385\n"
     ]
    }
   ],
   "source": [
    "brisat_elements = osculating_elements_of(brisat_satellite.at(current_time))\n",
    "i = brisat_elements.inclination.degrees\n",
    "e = brisat_elements.eccentricity\n",
    "a = brisat_elements.semi_major_axis.km\n",
    "raan = brisat_elements.argument_of_periapsis.degrees\n",
    "m0 = brisat_elements.mean_anomaly.degrees\n",
    "print(i, e, a, raan, m0)"
   ]
  }
 ],
 "metadata": {
  "kernelspec": {
   "display_name": "Python 3 (ipykernel)",
   "language": "python",
   "name": "python3"
  },
  "language_info": {
   "codemirror_mode": {
    "name": "ipython",
    "version": 3
   },
   "file_extension": ".py",
   "mimetype": "text/x-python",
   "name": "python",
   "nbconvert_exporter": "python",
   "pygments_lexer": "ipython3",
   "version": "3.9.2"
  }
 },
 "nbformat": 4,
 "nbformat_minor": 5
}
